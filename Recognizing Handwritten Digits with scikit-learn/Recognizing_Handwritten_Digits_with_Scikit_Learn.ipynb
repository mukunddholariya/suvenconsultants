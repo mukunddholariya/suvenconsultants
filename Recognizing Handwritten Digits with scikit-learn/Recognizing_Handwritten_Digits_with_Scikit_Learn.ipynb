{
  "nbformat": 4,
  "nbformat_minor": 0,
  "metadata": {
    "colab": {
      "name": "Recognizing Handwritten Digits with Scikit-Learn.ipynb",
      "provenance": []
    },
    "kernelspec": {
      "name": "python3",
      "display_name": "Python 3"
    },
    "language_info": {
      "name": "python"
    }
  },
  "cells": [
    {
      "cell_type": "code",
      "metadata": {
        "id": "cnA3PbgWUeMa"
      },
      "source": [
        "import numpy as np\n",
        "import random\n",
        "\n",
        "%matplotlib inline\n",
        "from matplotlib import pyplot as plt\n",
        "\n",
        "from sklearn import datasets\n",
        "from sklearn import svm\n",
        "\n",
        "from sklearn.model_selection import train_test_split\n",
        "from sklearn.model_selection import GridSearchCV\n",
        "from sklearn.metrics import accuracy_score, confusion_matrix\n",
        "from sklearn.metrics import classification_report, plot_confusion_matrix"
      ],
      "execution_count": 14,
      "outputs": []
    },
    {
      "cell_type": "code",
      "metadata": {
        "colab": {
          "base_uri": "https://localhost:8080/"
        },
        "id": "CWbaQzlwVJ_C",
        "outputId": "2888d967-b2a3-4d5c-d030-6774ccec3b9c"
      },
      "source": [
        "# Load digits from Sklearn \n",
        "dig_data = datasets.load_digits()\n",
        "\n",
        "print(dig_data.DESCR)"
      ],
      "execution_count": 15,
      "outputs": [
        {
          "output_type": "stream",
          "name": "stdout",
          "text": [
            ".. _digits_dataset:\n",
            "\n",
            "Optical recognition of handwritten digits dataset\n",
            "--------------------------------------------------\n",
            "\n",
            "**Data Set Characteristics:**\n",
            "\n",
            "    :Number of Instances: 5620\n",
            "    :Number of Attributes: 64\n",
            "    :Attribute Information: 8x8 image of integer pixels in the range 0..16.\n",
            "    :Missing Attribute Values: None\n",
            "    :Creator: E. Alpaydin (alpaydin '@' boun.edu.tr)\n",
            "    :Date: July; 1998\n",
            "\n",
            "This is a copy of the test set of the UCI ML hand-written digits datasets\n",
            "https://archive.ics.uci.edu/ml/datasets/Optical+Recognition+of+Handwritten+Digits\n",
            "\n",
            "The data set contains images of hand-written digits: 10 classes where\n",
            "each class refers to a digit.\n",
            "\n",
            "Preprocessing programs made available by NIST were used to extract\n",
            "normalized bitmaps of handwritten digits from a preprinted form. From a\n",
            "total of 43 people, 30 contributed to the training set and different 13\n",
            "to the test set. 32x32 bitmaps are divided into nonoverlapping blocks of\n",
            "4x4 and the number of on pixels are counted in each block. This generates\n",
            "an input matrix of 8x8 where each element is an integer in the range\n",
            "0..16. This reduces dimensionality and gives invariance to small\n",
            "distortions.\n",
            "\n",
            "For info on NIST preprocessing routines, see M. D. Garris, J. L. Blue, G.\n",
            "T. Candela, D. L. Dimmick, J. Geist, P. J. Grother, S. A. Janet, and C.\n",
            "L. Wilson, NIST Form-Based Handprint Recognition System, NISTIR 5469,\n",
            "1994.\n",
            "\n",
            ".. topic:: References\n",
            "\n",
            "  - C. Kaynak (1995) Methods of Combining Multiple Classifiers and Their\n",
            "    Applications to Handwritten Digit Recognition, MSc Thesis, Institute of\n",
            "    Graduate Studies in Science and Engineering, Bogazici University.\n",
            "  - E. Alpaydin, C. Kaynak (1998) Cascading Classifiers, Kybernetika.\n",
            "  - Ken Tang and Ponnuthurai N. Suganthan and Xi Yao and A. Kai Qin.\n",
            "    Linear dimensionalityreduction using relevance weighted LDA. School of\n",
            "    Electrical and Electronic Engineering Nanyang Technological University.\n",
            "    2005.\n",
            "  - Claudio Gentile. A New Approximate Maximal Margin Classification\n",
            "    Algorithm. NIPS. 2000.\n"
          ]
        }
      ]
    },
    {
      "cell_type": "code",
      "metadata": {
        "colab": {
          "base_uri": "https://localhost:8080/"
        },
        "id": "FAZYQeoOVQxQ",
        "outputId": "c0cd8faf-d477-4bfd-da5b-0faab13245f0"
      },
      "source": [
        "# DataType of imported dataset \n",
        "print(type(dig_data))\n",
        "\n",
        "# no. of dig_data image cases\n",
        "print(\"Total Cases : \", len(dig_data.images))\n",
        "\n",
        "# Keys in dig_data dataset \n",
        "# [Bunch objects are similar to dictionaries]\n",
        "# Here each kay has a bunch of values linked to it\n",
        "print(dig_data.keys())\n",
        "\n",
        "# Targets of dig_data\n",
        "# the .target attribute provides the target value for all the\n",
        "# data entries of the dig_data dataset\n",
        "print(dig_data.target)\n",
        "\n",
        "#The Allowed targets are\n",
        "print(\"Allowed targets : \", *dig_data.target_names)"
      ],
      "execution_count": 16,
      "outputs": [
        {
          "output_type": "stream",
          "name": "stdout",
          "text": [
            "<class 'sklearn.utils.Bunch'>\n",
            "Total Cases :  1797\n",
            "dict_keys(['data', 'target', 'target_names', 'images', 'DESCR'])\n",
            "[0 1 2 ... 8 9 8]\n",
            "Allowed targets :  0 1 2 3 4 5 6 7 8 9\n"
          ]
        }
      ]
    },
    {
      "cell_type": "code",
      "metadata": {
        "colab": {
          "base_uri": "https://localhost:8080/"
        },
        "id": "zb5OuUiUVWFo",
        "outputId": "7ac36383-f617-44d8-b703-6e847d162547"
      },
      "source": [
        "# Image attribute values be like\n",
        "dig_data.images[0]"
      ],
      "execution_count": 17,
      "outputs": [
        {
          "output_type": "execute_result",
          "data": {
            "text/plain": [
              "array([[ 0.,  0.,  5., 13.,  9.,  1.,  0.,  0.],\n",
              "       [ 0.,  0., 13., 15., 10., 15.,  5.,  0.],\n",
              "       [ 0.,  3., 15.,  2.,  0., 11.,  8.,  0.],\n",
              "       [ 0.,  4., 12.,  0.,  0.,  8.,  8.,  0.],\n",
              "       [ 0.,  5.,  8.,  0.,  0.,  9.,  8.,  0.],\n",
              "       [ 0.,  4., 11.,  0.,  1., 12.,  7.,  0.],\n",
              "       [ 0.,  2., 14.,  5., 10., 12.,  0.,  0.],\n",
              "       [ 0.,  0.,  6., 13., 10.,  0.,  0.,  0.]])"
            ]
          },
          "metadata": {},
          "execution_count": 17
        }
      ]
    },
    {
      "cell_type": "code",
      "metadata": {
        "colab": {
          "base_uri": "https://localhost:8080/",
          "height": 298
        },
        "id": "oFj2vPL5VbRy",
        "outputId": "1c00b4fe-dc6d-4442-e1f4-05d2692a88f0"
      },
      "source": [
        "# Visualization of first Image\n",
        "plt.figure(figsize=(4, 4))\n",
        "plt.imshow(dig_data.images[0], interpolation = \"nearest\", cmap = plt.cm.gray_r)\n",
        "plt.title(\"Hand Written Digit\")"
      ],
      "execution_count": 18,
      "outputs": [
        {
          "output_type": "execute_result",
          "data": {
            "text/plain": [
              "Text(0.5, 1.0, 'Hand Written Digit')"
            ]
          },
          "metadata": {},
          "execution_count": 18
        },
        {
          "output_type": "display_data",
          "data": {
            "image/png": "[encoded data removed]",
            "text/plain": [
              "<Figure size 288x288 with 1 Axes>"
            ]
          },
          "metadata": {
            "needs_background": "light"
          }
        }
      ]
    },
    {
      "cell_type": "code",
      "metadata": {
        "colab": {
          "base_uri": "https://localhost:8080/"
        },
        "id": "zLgwC6uwVf3e",
        "outputId": "0ccfbab6-1605-4952-b261-b250624a92c4"
      },
      "source": [
        "# Reshape the image data in an accessible manner\n",
        "digits = dig_data.images.reshape((len(dig_data.images), -1))\n",
        "\n",
        "# shape of digits dataset\n",
        "digits.shape"
      ],
      "execution_count": 19,
      "outputs": [
        {
          "output_type": "execute_result",
          "data": {
            "text/plain": [
              "(1797, 64)"
            ]
          },
          "metadata": {},
          "execution_count": 19
        }
      ]
    },
    {
      "cell_type": "code",
      "metadata": {
        "id": "UbidwUIoVm7a"
      },
      "source": [
        "# Split the data into training set and testing set in [99:1 ratio] \n",
        "x_train, x_test, y_train, y_test = train_test_split(digits, dig_data.target, \n",
        "                                        train_size = 0.7, random_state=1)"
      ],
      "execution_count": 20,
      "outputs": []
    },
    {
      "cell_type": "code",
      "metadata": {
        "colab": {
          "base_uri": "https://localhost:8080/"
        },
        "id": "7tZK1j86VrdE",
        "outputId": "002da327-4c0f-463d-c212-fd0bb258aec2"
      },
      "source": [
        "# Create a GridSearch to find the best_parameters for the good accuracy\n",
        "GSV = GridSearchCV(svm.SVC(kernel = \"rbf\"), \n",
        "        param_grid = {\"gamma\" : [0.001, 0.01, 0.1, 1], \"C\" : [1.0, 1.0, 100.0]}, cv=3)\n",
        "\n",
        "GSV.fit(x_train, y_train)\n",
        "\n",
        "GSV.cv_results_"
      ],
      "execution_count": 21,
      "outputs": [
        {
          "output_type": "execute_result",
          "data": {
            "text/plain": [
              "{'mean_fit_time': array([0.06834364, 0.18324971, 0.18793774, 0.15844655, 0.06772232,\n",
              "        0.18329104, 0.18465281, 0.15622473, 0.06693848, 0.18403021,\n",
              "        0.1891764 , 0.16541274]),\n",
              " 'mean_score_time': array([0.02707561, 0.04457045, 0.04616833, 0.04119205, 0.02703015,\n",
              "        0.04601566, 0.04489374, 0.04047338, 0.02680612, 0.04474274,\n",
              "        0.04583557, 0.0400273 ]),\n",
              " 'mean_test_score': array([0.98647574, 0.69689737, 0.10898966, 0.10739857, 0.98647574,\n",
              "        0.69689737, 0.10898966, 0.10739857, 0.98806683, 0.72315036,\n",
              "        0.10898966, 0.10739857]),\n",
              " 'param_C': masked_array(data=[1.0, 1.0, 1.0, 1.0, 1.0, 1.0, 1.0, 1.0, 100.0, 100.0,\n",
              "                    100.0, 100.0],\n",
              "              mask=[False, False, False, False, False, False, False, False,\n",
              "                    False, False, False, False],\n",
              "        fill_value='?',\n",
              "             dtype=object),\n",
              " 'param_gamma': masked_array(data=[0.001, 0.01, 0.1, 1, 0.001, 0.01, 0.1, 1, 0.001, 0.01,\n",
              "                    0.1, 1],\n",
              "              mask=[False, False, False, False, False, False, False, False,\n",
              "                    False, False, False, False],\n",
              "        fill_value='?',\n",
              "             dtype=object),\n",
              " 'params': [{'C': 1.0, 'gamma': 0.001},\n",
              "  {'C': 1.0, 'gamma': 0.01},\n",
              "  {'C': 1.0, 'gamma': 0.1},\n",
              "  {'C': 1.0, 'gamma': 1},\n",
              "  {'C': 1.0, 'gamma': 0.001},\n",
              "  {'C': 1.0, 'gamma': 0.01},\n",
              "  {'C': 1.0, 'gamma': 0.1},\n",
              "  {'C': 1.0, 'gamma': 1},\n",
              "  {'C': 100.0, 'gamma': 0.001},\n",
              "  {'C': 100.0, 'gamma': 0.01},\n",
              "  {'C': 100.0, 'gamma': 0.1},\n",
              "  {'C': 100.0, 'gamma': 1}],\n",
              " 'rank_test_score': array([ 2,  5,  7, 10,  2,  5,  7, 10,  1,  4,  7, 10], dtype=int32),\n",
              " 'split0_test_score': array([0.98568019, 0.72315036, 0.10739857, 0.10739857, 0.98568019,\n",
              "        0.72315036, 0.10739857, 0.10739857, 0.98806683, 0.75178998,\n",
              "        0.10739857, 0.10739857]),\n",
              " 'split1_test_score': array([0.98806683, 0.67064439, 0.1097852 , 0.10739857, 0.98806683,\n",
              "        0.67064439, 0.1097852 , 0.10739857, 0.99045346, 0.70405728,\n",
              "        0.1097852 , 0.10739857]),\n",
              " 'split2_test_score': array([0.98568019, 0.69689737, 0.1097852 , 0.10739857, 0.98568019,\n",
              "        0.69689737, 0.1097852 , 0.10739857, 0.98568019, 0.71360382,\n",
              "        0.1097852 , 0.10739857]),\n",
              " 'std_fit_time': array([0.00020786, 0.00147206, 0.00314992, 0.00112265, 0.00098258,\n",
              "        0.00247301, 0.00128391, 0.00107418, 0.00078873, 0.00292341,\n",
              "        0.00088548, 0.00255546]),\n",
              " 'std_score_time': array([1.34359582e-04, 1.19835322e-04, 1.33318051e-03, 1.37731511e-03,\n",
              "        3.46882255e-04, 2.07676500e-03, 3.39837787e-04, 6.42595832e-04,\n",
              "        2.86198904e-04, 3.14079738e-04, 5.22690431e-04, 7.45556241e-05]),\n",
              " 'std_test_score': array([0.00112507, 0.02143547, 0.00112507, 0.        , 0.00112507,\n",
              "        0.02143547, 0.00112507, 0.        , 0.00194868, 0.02062288,\n",
              "        0.00112507, 0.        ])}"
            ]
          },
          "metadata": {},
          "execution_count": 21
        }
      ]
    },
    {
      "cell_type": "code",
      "metadata": {
        "colab": {
          "base_uri": "https://localhost:8080/"
        },
        "id": "dZFrEzIIV1PB",
        "outputId": "78f8b074-1ae3-44d8-861e-172936b1ec64"
      },
      "source": [
        "# Select the best parameters \n",
        "# one can also look through the rank_test_score for more insights\n",
        "GSV.best_params_"
      ],
      "execution_count": 22,
      "outputs": [
        {
          "output_type": "execute_result",
          "data": {
            "text/plain": [
              "{'C': 100.0, 'gamma': 0.001}"
            ]
          },
          "metadata": {},
          "execution_count": 22
        }
      ]
    },
    {
      "cell_type": "code",
      "metadata": {
        "colab": {
          "base_uri": "https://localhost:8080/"
        },
        "id": "IuM-e9lhV1-H",
        "outputId": "edb47817-d356-4fa4-d759-a48ba76c4499"
      },
      "source": [
        "# Now using best parameters create a SVC mode\n",
        "model = svm.SVC(C = 10.0, gamma = 0.001)\n",
        "# Fit the model with training dataset\n",
        "model.fit(x_train, y_train)\n",
        "\n",
        "# Model score\n",
        "score = model.score(x_test, y_test)\n",
        "print(score)\n",
        "\n",
        "# Acuraccy metrics\n",
        "accuracy_score(y_test, model.predict(x_test))"
      ],
      "execution_count": 23,
      "outputs": [
        {
          "output_type": "stream",
          "name": "stdout",
          "text": [
            "0.9907407407407407\n"
          ]
        },
        {
          "output_type": "execute_result",
          "data": {
            "text/plain": [
              "0.9907407407407407"
            ]
          },
          "metadata": {},
          "execution_count": 23
        }
      ]
    },
    {
      "cell_type": "code",
      "metadata": {
        "colab": {
          "base_uri": "https://localhost:8080/"
        },
        "id": "NafShByhV61w",
        "outputId": "b571335d-5f2d-4047-f20a-543b5fad9e22"
      },
      "source": [
        "# Classification report\n",
        "print(classification_report(y_test, model.predict(x_test)))"
      ],
      "execution_count": 24,
      "outputs": [
        {
          "output_type": "stream",
          "name": "stdout",
          "text": [
            "              precision    recall  f1-score   support\n",
            "\n",
            "           0       1.00      1.00      1.00        59\n",
            "           1       0.98      1.00      0.99        49\n",
            "           2       1.00      1.00      1.00        49\n",
            "           3       1.00      1.00      1.00        64\n",
            "           4       1.00      1.00      1.00        61\n",
            "           5       0.96      0.98      0.97        47\n",
            "           6       1.00      1.00      1.00        51\n",
            "           7       1.00      0.98      0.99        57\n",
            "           8       1.00      0.98      0.99        46\n",
            "           9       0.96      0.96      0.96        57\n",
            "\n",
            "    accuracy                           0.99       540\n",
            "   macro avg       0.99      0.99      0.99       540\n",
            "weighted avg       0.99      0.99      0.99       540\n",
            "\n"
          ]
        }
      ]
    },
    {
      "cell_type": "code",
      "metadata": {
        "colab": {
          "base_uri": "https://localhost:8080/"
        },
        "id": "MwOEAga5V-bA",
        "outputId": "d430f223-e38f-4516-fd1b-6a97c7f8577e"
      },
      "source": [
        "# Confusion Matrix\n",
        "confusion_matrix(y_test, model.predict(x_test))"
      ],
      "execution_count": 25,
      "outputs": [
        {
          "output_type": "execute_result",
          "data": {
            "text/plain": [
              "array([[59,  0,  0,  0,  0,  0,  0,  0,  0,  0],\n",
              "       [ 0, 49,  0,  0,  0,  0,  0,  0,  0,  0],\n",
              "       [ 0,  0, 49,  0,  0,  0,  0,  0,  0,  0],\n",
              "       [ 0,  0,  0, 64,  0,  0,  0,  0,  0,  0],\n",
              "       [ 0,  0,  0,  0, 61,  0,  0,  0,  0,  0],\n",
              "       [ 0,  0,  0,  0,  0, 46,  0,  0,  0,  1],\n",
              "       [ 0,  0,  0,  0,  0,  0, 51,  0,  0,  0],\n",
              "       [ 0,  0,  0,  0,  0,  0,  0, 56,  0,  1],\n",
              "       [ 0,  1,  0,  0,  0,  0,  0,  0, 45,  0],\n",
              "       [ 0,  0,  0,  0,  0,  2,  0,  0,  0, 55]])"
            ]
          },
          "metadata": {},
          "execution_count": 25
        }
      ]
    },
    {
      "cell_type": "code",
      "metadata": {
        "colab": {
          "base_uri": "https://localhost:8080/"
        },
        "id": "H3Sc__caWCaS",
        "outputId": "4d64f354-0f23-40b9-dd46-0709e7553df7"
      },
      "source": [
        "# Now lets create a model with C = 100.0\n",
        "# ususally the best parameters of gridScearch varies\n",
        "# As random splitting takes place the \n",
        "# train and test data changes every time we run it\n",
        "\n",
        "model = svm.SVC(C = 100.0, gamma = 0.001)\n",
        "model.fit(x_train, y_train)\n",
        "\n",
        "print(model.score(x_test, y_test))\n",
        "print(\"Accuracy -\", accuracy_score(y_test, model.predict(x_test)))\n",
        "\n",
        "print(classification_report(y_test, model.predict(x_test)))"
      ],
      "execution_count": 26,
      "outputs": [
        {
          "output_type": "stream",
          "name": "stdout",
          "text": [
            "0.9907407407407407\n",
            "Accuracy - 0.9907407407407407\n",
            "              precision    recall  f1-score   support\n",
            "\n",
            "           0       1.00      1.00      1.00        59\n",
            "           1       0.98      1.00      0.99        49\n",
            "           2       1.00      1.00      1.00        49\n",
            "           3       1.00      1.00      1.00        64\n",
            "           4       1.00      1.00      1.00        61\n",
            "           5       0.96      0.98      0.97        47\n",
            "           6       1.00      1.00      1.00        51\n",
            "           7       1.00      0.98      0.99        57\n",
            "           8       1.00      0.98      0.99        46\n",
            "           9       0.96      0.96      0.96        57\n",
            "\n",
            "    accuracy                           0.99       540\n",
            "   macro avg       0.99      0.99      0.99       540\n",
            "weighted avg       0.99      0.99      0.99       540\n",
            "\n"
          ]
        }
      ]
    },
    {
      "cell_type": "code",
      "metadata": {
        "colab": {
          "base_uri": "https://localhost:8080/"
        },
        "id": "lBIouegcWGE_",
        "outputId": "2d73716c-f64f-4938-d981-ab1dd621ad5d"
      },
      "source": [
        "# Confusion matrix for C = 100\n",
        "confusion_matrix(y_test, model.predict(x_test))"
      ],
      "execution_count": 27,
      "outputs": [
        {
          "output_type": "execute_result",
          "data": {
            "text/plain": [
              "array([[59,  0,  0,  0,  0,  0,  0,  0,  0,  0],\n",
              "       [ 0, 49,  0,  0,  0,  0,  0,  0,  0,  0],\n",
              "       [ 0,  0, 49,  0,  0,  0,  0,  0,  0,  0],\n",
              "       [ 0,  0,  0, 64,  0,  0,  0,  0,  0,  0],\n",
              "       [ 0,  0,  0,  0, 61,  0,  0,  0,  0,  0],\n",
              "       [ 0,  0,  0,  0,  0, 46,  0,  0,  0,  1],\n",
              "       [ 0,  0,  0,  0,  0,  0, 51,  0,  0,  0],\n",
              "       [ 0,  0,  0,  0,  0,  0,  0, 56,  0,  1],\n",
              "       [ 0,  1,  0,  0,  0,  0,  0,  0, 45,  0],\n",
              "       [ 0,  0,  0,  0,  0,  2,  0,  0,  0, 55]])"
            ]
          },
          "metadata": {},
          "execution_count": 27
        }
      ]
    },
    {
      "cell_type": "code",
      "metadata": {
        "colab": {
          "base_uri": "https://localhost:8080/",
          "height": 296
        },
        "id": "5YoiP-SnWK7A",
        "outputId": "b4931446-5985-49ad-dda9-8f923408350b"
      },
      "source": [
        "plot_confusion_matrix(model, x_test, y_test)"
      ],
      "execution_count": 28,
      "outputs": [
        {
          "output_type": "execute_result",
          "data": {
            "text/plain": [
              "<sklearn.metrics._plot.confusion_matrix.ConfusionMatrixDisplay at 0x7f619e1a4b10>"
            ]
          },
          "metadata": {},
          "execution_count": 28
        },
        {
          "output_type": "display_data",
          "data": {
            "image/png": "[encoded data removed]",
            "text/plain": [
              "<Figure size 432x288 with 2 Axes>"
            ]
          },
          "metadata": {
            "needs_background": "light"
          }
        }
      ]
    }
  ]
}